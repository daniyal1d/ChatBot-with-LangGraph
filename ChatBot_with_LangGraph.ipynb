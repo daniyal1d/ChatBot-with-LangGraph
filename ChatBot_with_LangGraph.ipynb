{
  "nbformat": 4,
  "nbformat_minor": 0,
  "metadata": {
    "colab": {
      "provenance": [],
      "authorship_tag": "ABX9TyOVBNnC1Kg4VRsUwPb1u5j/",
      "include_colab_link": true
    },
    "kernelspec": {
      "name": "python3",
      "display_name": "Python 3"
    },
    "language_info": {
      "name": "python"
    }
  },
  "cells": [
    {
      "cell_type": "markdown",
      "metadata": {
        "id": "view-in-github",
        "colab_type": "text"
      },
      "source": [
        "<a href=\"https://colab.research.google.com/github/daniyal1d/ChatBot-with-LangGraph/blob/main/ChatBot_with_LangGraph.ipynb\" target=\"_parent\"><img src=\"https://colab.research.google.com/assets/colab-badge.svg\" alt=\"Open In Colab\"/></a>"
      ]
    },
    {
      "cell_type": "code",
      "source": [
        "!pip install -q langgraph google-generativeai"
      ],
      "metadata": {
        "id": "f48jzJK3Gn-K"
      },
      "execution_count": 39,
      "outputs": []
    },
    {
      "cell_type": "code",
      "source": [],
      "metadata": {
        "id": "DI66Usq9IJQ4"
      },
      "execution_count": 39,
      "outputs": []
    },
    {
      "cell_type": "code",
      "source": [
        "import os\n",
        "import google.generativeai as genai\n",
        "\n",
        "# Replace with your Gemini API Key\n",
        "GOOGLE_API_KEY = \"Gemini_API_KEY\"\n",
        "genai.configure(api_key=GOOGLE_API_KEY)"
      ],
      "metadata": {
        "id": "pvxfusjTGorz"
      },
      "execution_count": 40,
      "outputs": []
    },
    {
      "cell_type": "code",
      "source": [
        "def gemini_chat_fn(state):\n",
        "    prompt = state.get(\"user_input\")\n",
        "    model = genai.GenerativeModel('gemini-1.5-flash')\n",
        "    chat = model.start_chat()\n",
        "\n",
        "    response = chat.send_message(prompt)\n",
        "    state[\"response\"] = response.text\n",
        "    return state\n"
      ],
      "metadata": {
        "id": "rpeywc0SGrL1"
      },
      "execution_count": 41,
      "outputs": []
    },
    {
      "cell_type": "code",
      "source": [
        "from langgraph.graph import StateGraph, END\n",
        "from typing import TypedDict\n",
        "\n",
        "# Define the state schema using a TypedDict\n",
        "class StateSchema(TypedDict):\n",
        "    user_input: str\n",
        "    response: str\n",
        "\n",
        "# Create the stateful graph using the TypedDict\n",
        "graph = StateGraph(StateSchema)\n",
        "graph.add_node(\"GeminiNode\", gemini_chat_fn)\n",
        "graph.set_entry_point(\"GeminiNode\")\n",
        "graph.set_finish_point(\"GeminiNode\")  # ends after one turn\n",
        "\n",
        "app = graph.compile()"
      ],
      "metadata": {
        "id": "LVO3FfNZGvlr"
      },
      "execution_count": 42,
      "outputs": []
    },
    {
      "cell_type": "code",
      "source": [
        "while True:\n",
        "    user_input = input(\"You: \")\n",
        "    if user_input.lower() in [\"exit\", \"quit\"]:\n",
        "        break\n",
        "\n",
        "    result = app.invoke({\"user_input\": user_input})\n",
        "    print(\"Bot:\", result['response'])\n"
      ],
      "metadata": {
        "colab": {
          "base_uri": "https://localhost:8080/",
          "height": 91
        },
        "id": "1PRtPGQ5Gyo3",
        "outputId": "6975e7d5-e58c-43cb-ac96-b287785db02f"
      },
      "execution_count": 43,
      "outputs": [
        {
          "name": "stdout",
          "output_type": "stream",
          "text": [
            "You: hello\n",
            "Bot: Hello there! How can I help you today?\n",
            "\n",
            "You: exit\n"
          ]
        }
      ]
    },
    {
      "cell_type": "code",
      "source": [],
      "metadata": {
        "id": "7RnApjfTG7l3"
      },
      "execution_count": null,
      "outputs": []
    }
  ]
}